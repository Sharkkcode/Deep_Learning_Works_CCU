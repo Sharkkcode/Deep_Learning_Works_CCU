{
  "cells": [
    {
      "cell_type": "code",
      "execution_count": null,
      "metadata": {
        "id": "t6E3VlQdtm03"
      },
      "outputs": [],
      "source": [
        "import pandas as pd\n",
        "import numpy as np\n",
        "from datetime import datetime\n",
        "import torch\n",
        "import torch.nn as nn\n",
        "import matplotlib.pyplot as plt"
      ]
    },
    {
      "cell_type": "code",
      "execution_count": null,
      "metadata": {
        "id": "vDslZCc9yG3p"
      },
      "outputs": [],
      "source": [
        "# load data\n",
        "\n",
        "folder_path = \"yourfolderpath\"\n",
        "\n",
        "# air\n",
        "air_reserve_df = pd.read_csv(folder_path + \"/air_reserve.csv\")\n",
        "air_store_info_df = pd.read_csv(folder_path + \"/air_store_info.csv\")\n",
        "air_visit_data_df = pd.read_csv(folder_path + \"/air_visit_data.csv\")\n",
        "\n",
        "# hpg\n",
        "hpg_reserve_df = pd.read_csv(folder_path + \"/hpg_reserve.csv\")\n",
        "hpg_store_info_df = pd.read_csv(folder_path + \"/hpg_store_info.csv\")\n",
        "\n",
        "# date info\n",
        "date_info_df = pd.read_csv(folder_path + \"/date_info.csv\")\n",
        "\n",
        "# relation\n",
        "store_id_relation_df = pd.read_csv(folder_path + \"/store_id_relation.csv\")"
      ]
    },
    {
      "cell_type": "code",
      "execution_count": null,
      "metadata": {
        "colab": {
          "base_uri": "https://localhost:8080/"
        },
        "id": "OIEg8GtHa-wr",
        "outputId": "8890cb2d-90f2-4dba-e1ac-ec7ed0861fc6"
      },
      "outputs": [
        {
          "name": "stdout",
          "output_type": "stream",
          "text": [
            "314\n",
            "13325\n",
            "150\n"
          ]
        }
      ],
      "source": [
        "print(air_reserve_df['air_store_id'].nunique())\n",
        "print(hpg_reserve_df['hpg_store_id'].nunique())\n",
        "print(store_id_relation_df.shape[0])"
      ]
    },
    {
      "cell_type": "code",
      "execution_count": null,
      "metadata": {
        "colab": {
          "base_uri": "https://localhost:8080/"
        },
        "id": "sqfhe9PWnWuF",
        "outputId": "be91f786-fff0-448a-98a9-d159978acf62"
      },
      "outputs": [
        {
          "name": "stdout",
          "output_type": "stream",
          "text": [
            "================Null values check=================\n",
            "\n",
            "air_visit_data_df : False\n",
            "air_reserve_df : False\n",
            "air_store_info_df : False\n",
            "date_info_df : False\n",
            "hpg_reserve_df : False\n",
            "hpg_store_info_df : False\n",
            "store_id_relation_df : False\n"
          ]
        }
      ],
      "source": [
        "# check null values in data\n",
        "\n",
        "def check_null_values(df: pd.DataFrame):\n",
        "    return np.any(df.isna().sum() > 1)\n",
        "\n",
        "print(\"Null values check\".center(50, \"=\"))\n",
        "print()\n",
        "print(\"air_visit_data_df :\", check_null_values(air_visit_data_df))\n",
        "print(\"air_reserve_df :\", check_null_values(air_reserve_df))\n",
        "print(\"air_store_info_df :\", check_null_values(air_store_info_df))\n",
        "print(\"date_info_df :\", check_null_values(date_info_df))\n",
        "print(\"hpg_reserve_df :\", check_null_values(hpg_reserve_df))\n",
        "print(\"hpg_store_info_df :\", check_null_values(hpg_store_info_df))\n",
        "print(\"store_id_relation_df :\", check_null_values(store_id_relation_df))"
      ]
    },
    {
      "cell_type": "code",
      "execution_count": null,
      "metadata": {
        "id": "noG38SFYvv9G"
      },
      "outputs": [],
      "source": [
        "# merge air_visit_data_df and date_info_df to train_df\n",
        "\n",
        "# type conversion\n",
        "air_visit_data_df.visit_date = pd.to_datetime(air_visit_data_df.visit_date)\n",
        "date_info_df.calendar_date = pd.to_datetime(date_info_df.calendar_date)\n",
        "\n",
        "date_info_df.rename(columns={'calendar_date': 'visit_date'}, inplace=True)\n",
        "train_df = pd.merge(air_visit_data_df, date_info_df, how='left', on=\"visit_date\")\n",
        "\n",
        "# sort by visit_date\n",
        "train_df.sort_values(by='visit_date', inplace=True, ignore_index=True)\n",
        "\n",
        "# print(\"train_df :\", check_null_values(train_df))\n",
        "# print(air_visit_data_df.head())\n",
        "# print(date_info_df.head())\n",
        "# print(train_df.head())"
      ]
    },
    {
      "cell_type": "code",
      "execution_count": null,
      "metadata": {
        "colab": {
          "base_uri": "https://localhost:8080/"
        },
        "id": "96d8WkAtSavY",
        "outputId": "7e9573bc-d1cc-4d4b-a8da-1bb822304baf"
      },
      "outputs": [
        {
          "name": "stdout",
          "output_type": "stream",
          "text": [
            "           air_store_id visit_date  visitors day_of_week  holiday_flg  \\\n",
            "0  air_fab092c35776a9b1 2016-01-01        19      Friday            1   \n",
            "1  air_f26f36ec4dc5adb0 2016-01-01        64      Friday            1   \n",
            "2  air_d97dabf7aae60da5 2016-01-01       102      Friday            1   \n",
            "3  air_39dccf7df20b1c6a 2016-01-01        55      Friday            1   \n",
            "4  air_79f528087f49df06 2016-01-01        42      Friday            1   \n",
            "\n",
            "  air_genre_name                       air_area_name   latitude   longitude  \n",
            "0    Cafe/Sweets     Fukuoka-ken Fukuoka-shi Momochi  33.581941  130.348436  \n",
            "1        Izakaya      Tōkyō-to Shinjuku-ku Kabukichō  35.693840  139.703549  \n",
            "2    Cafe/Sweets        Tōkyō-to Shibuya-ku Jingūmae  35.669290  139.707056  \n",
            "3        Izakaya    Hyōgo-ken Takarazuka-shi Tōyōchō  34.799767  135.360073  \n",
            "4   Western food  Tōkyō-to Suginami-ku Asagayaminami  35.699566  139.636438  \n"
          ]
        }
      ],
      "source": [
        "# merge train_df and air_store_info_df to train_df\n",
        "\n",
        "train_df = pd.merge(train_df, air_store_info_df, how='left', on='air_store_id')\n",
        "\n",
        "# print(\"train_df :\", check_null_values(train_df))\n",
        "print(train_df.head())"
      ]
    },
    {
      "cell_type": "code",
      "execution_count": null,
      "metadata": {
        "colab": {
          "base_uri": "https://localhost:8080/"
        },
        "id": "UhPjQxEJTBjy",
        "outputId": "be476685-d8f1-4a19-d0a6-c853f9f87e80"
      },
      "outputs": [
        {
          "name": "stdout",
          "output_type": "stream",
          "text": [
            "           air_store_id      visit_datetime    reserve_datetime  \\\n",
            "0  air_877f79706adbfb06 2016-01-01 19:00:00 2016-01-01 16:00:00   \n",
            "1  air_db4b38ebe7a7ceff 2016-01-01 19:00:00 2016-01-01 19:00:00   \n",
            "2  air_db4b38ebe7a7ceff 2016-01-01 19:00:00 2016-01-01 19:00:00   \n",
            "3  air_877f79706adbfb06 2016-01-01 20:00:00 2016-01-01 16:00:00   \n",
            "4  air_db80363d35f10926 2016-01-01 20:00:00 2016-01-01 01:00:00   \n",
            "\n",
            "   reserve_visitors  vr_gap_time  visit_date  \n",
            "0                 1          3.0  2016-01-01  \n",
            "1                 3          0.0  2016-01-01  \n",
            "2                 6          0.0  2016-01-01  \n",
            "3                 2          4.0  2016-01-01  \n",
            "4                 5         19.0  2016-01-01  \n",
            "           air_store_id visit_date  reserve_visitors  vr_gap_time\n",
            "0  air_00a91d42b08b08d9 2016-10-31                 2          4.0\n",
            "1  air_00a91d42b08b08d9 2016-12-05                 9        100.0\n",
            "2  air_00a91d42b08b08d9 2016-12-14                18        153.0\n",
            "3  air_00a91d42b08b08d9 2016-12-17                 2        147.0\n",
            "4  air_00a91d42b08b08d9 2016-12-20                 4         51.0\n"
          ]
        }
      ],
      "source": [
        "# merge train_df and air_reserve_df to train_df\n",
        "\n",
        "# type conversion\n",
        "air_reserve_df.visit_datetime = pd.to_datetime(air_reserve_df.visit_datetime)\n",
        "air_reserve_df.reserve_datetime = pd.to_datetime(air_reserve_df.reserve_datetime)\n",
        "\n",
        "# add vr_gap_time --> ( visit time - reserve time )\n",
        "# unit: 1 hour\n",
        "air_reserve_diff = air_reserve_df.visit_datetime - air_reserve_df.reserve_datetime\n",
        "air_reserve_diff = air_reserve_diff / np.timedelta64(1, 'h')\n",
        "air_reserve_df[\"vr_gap_time\"] = air_reserve_diff\n",
        "\n",
        "# add visit_date\n",
        "air_reserve_df['visit_date'] = air_reserve_df.visit_datetime.dt.date\n",
        "\n",
        "print(air_reserve_df.head())\n",
        "\n",
        "# reservations and visits on the same day\n",
        "rv_same_day_count_df = air_reserve_df.groupby(by=['air_store_id', 'visit_date'], as_index=False)[['reserve_visitors', 'vr_gap_time']].sum()\n",
        "rv_same_day_count_df.visit_date = pd.to_datetime(rv_same_day_count_df.visit_date)\n",
        "\n",
        "print(rv_same_day_count_df.head())\n",
        "\n",
        "# merge to train_df\n",
        "train_df = pd.merge(train_df, rv_same_day_count_df, how='left', on=['visit_date', 'air_store_id'])\n",
        "train_df.fillna(0, inplace=True)\n",
        "# print(train_df.head())"
      ]
    },
    {
      "cell_type": "code",
      "execution_count": null,
      "metadata": {
        "colab": {
          "base_uri": "https://localhost:8080/"
        },
        "id": "TD2cb962eogy",
        "outputId": "d7b93b59-c1f8-4d29-9341-cf66b0a47040"
      },
      "outputs": [
        {
          "name": "stdout",
          "output_type": "stream",
          "text": [
            "           air_store_id visit_date  visitors day_of_week  holiday_flg  \\\n",
            "0  air_fab092c35776a9b1 2016-01-01        19      Friday            1   \n",
            "1  air_f26f36ec4dc5adb0 2016-01-01        64      Friday            1   \n",
            "2  air_d97dabf7aae60da5 2016-01-01       102      Friday            1   \n",
            "3  air_39dccf7df20b1c6a 2016-01-01        55      Friday            1   \n",
            "4  air_79f528087f49df06 2016-01-01        42      Friday            1   \n",
            "\n",
            "  air_genre_name                       air_area_name   latitude   longitude  \\\n",
            "0    Cafe/Sweets     Fukuoka-ken Fukuoka-shi Momochi  33.581941  130.348436   \n",
            "1        Izakaya      Tōkyō-to Shinjuku-ku Kabukichō  35.693840  139.703549   \n",
            "2    Cafe/Sweets        Tōkyō-to Shibuya-ku Jingūmae  35.669290  139.707056   \n",
            "3        Izakaya    Hyōgo-ken Takarazuka-shi Tōyōchō  34.799767  135.360073   \n",
            "4   Western food  Tōkyō-to Suginami-ku Asagayaminami  35.699566  139.636438   \n",
            "\n",
            "   reserve_visitors_air  vr_gap_time_air  reserve_visitors_hpg  \\\n",
            "0                   0.0              0.0                   0.0   \n",
            "1                   0.0              0.0                   0.0   \n",
            "2                   0.0              0.0                   0.0   \n",
            "3                   0.0              0.0                   0.0   \n",
            "4                   0.0              0.0                   0.0   \n",
            "\n",
            "   vr_gap_time_hpg  \n",
            "0              0.0  \n",
            "1              0.0  \n",
            "2              0.0  \n",
            "3              0.0  \n",
            "4              0.0  \n"
          ]
        }
      ],
      "source": [
        "# merge train_df and hpg_extract_df (new df with hpg data) to train_df\n",
        "\n",
        "# extract data (HPG reserve data) that is related to AIR\n",
        "hpg_extract_df = pd.merge(hpg_reserve_df, store_id_relation_df, how='inner', on='hpg_store_id')\n",
        "\n",
        "# add hpg_store_info\n",
        "hpg_extract_df = pd.merge(hpg_extract_df, hpg_store_info_df, how='left', on='hpg_store_id')\n",
        "\n",
        "# print(hpg_extract_df.head())\n",
        "\n",
        "# type conversion\n",
        "hpg_extract_df.visit_datetime = pd.to_datetime(hpg_extract_df.visit_datetime)\n",
        "hpg_extract_df.reserve_datetime = pd.to_datetime(hpg_extract_df.reserve_datetime)\n",
        "\n",
        "# add vr_gap_time --> ( visit time - reserve time )\n",
        "# unit: 1 hour\n",
        "hpg_extract_reserve_diff = hpg_extract_df.visit_datetime - hpg_extract_df.reserve_datetime\n",
        "hpg_extract_reserve_diff = hpg_extract_reserve_diff / np.timedelta64(1, 'h')\n",
        "hpg_extract_df[\"vr_gap_time\"] = hpg_extract_reserve_diff\n",
        "\n",
        "# add visit_date\n",
        "hpg_extract_df['visit_date'] = hpg_extract_df.visit_datetime.dt.date\n",
        "\n",
        "# print(hpg_extract_df.head())\n",
        "\n",
        "# reservations and visits on the same day\n",
        "rv_same_day_count_df = hpg_extract_df.groupby(by=['air_store_id', 'visit_date'], as_index=False)[['reserve_visitors', 'vr_gap_time']].sum()\n",
        "rv_same_day_count_df.visit_date = pd.to_datetime(rv_same_day_count_df.visit_date)\n",
        "\n",
        "# print(rv_same_day_count_df.head())\n",
        "\n",
        "# merge to train_df\n",
        "train_df = pd.merge(train_df, rv_same_day_count_df, how='left', on=['visit_date', 'air_store_id'], suffixes=(\"_air\", \"_hpg\"))\n",
        "train_df.fillna(0, inplace=True)\n",
        "\n",
        "print(train_df.head())"
      ]
    },
    {
      "cell_type": "code",
      "execution_count": null,
      "metadata": {
        "colab": {
          "base_uri": "https://localhost:8080/"
        },
        "id": "68mr7jrvEknQ",
        "outputId": "f6a9ca6f-ab07-4414-b390-00e86e4fcfad"
      },
      "outputs": [
        {
          "name": "stdout",
          "output_type": "stream",
          "text": [
            "  visit_date  visitors day_of_week  holiday_flg air_genre_name  \\\n",
            "0 2016-01-01        19      Friday            1    Cafe/Sweets   \n",
            "1 2016-01-01        64      Friday            1        Izakaya   \n",
            "2 2016-01-01       102      Friday            1    Cafe/Sweets   \n",
            "3 2016-01-01        55      Friday            1        Izakaya   \n",
            "4 2016-01-01        42      Friday            1   Western food   \n",
            "\n",
            "                        air_area_name   latitude   longitude  \\\n",
            "0     Fukuoka-ken Fukuoka-shi Momochi  33.581941  130.348436   \n",
            "1      Tōkyō-to Shinjuku-ku Kabukichō  35.693840  139.703549   \n",
            "2        Tōkyō-to Shibuya-ku Jingūmae  35.669290  139.707056   \n",
            "3    Hyōgo-ken Takarazuka-shi Tōyōchō  34.799767  135.360073   \n",
            "4  Tōkyō-to Suginami-ku Asagayaminami  35.699566  139.636438   \n",
            "\n",
            "   reserve_visitors_air  vr_gap_time_air  reserve_visitors_hpg  \\\n",
            "0                   0.0              0.0                   0.0   \n",
            "1                   0.0              0.0                   0.0   \n",
            "2                   0.0              0.0                   0.0   \n",
            "3                   0.0              0.0                   0.0   \n",
            "4                   0.0              0.0                   0.0   \n",
            "\n",
            "   vr_gap_time_hpg  \n",
            "0              0.0  \n",
            "1              0.0  \n",
            "2              0.0  \n",
            "3              0.0  \n",
            "4              0.0  \n"
          ]
        }
      ],
      "source": [
        "# remove air_store_id in columns\n",
        "train_df.drop(columns=[\"air_store_id\"], inplace=True)\n",
        "print(train_df.head())"
      ]
    },
    {
      "cell_type": "code",
      "execution_count": null,
      "metadata": {
        "colab": {
          "base_uri": "https://localhost:8080/"
        },
        "id": "UoQqTNFqE10a",
        "outputId": "bc1a2c16-16d1-4876-c435-8cb4b2446b55"
      },
      "outputs": [
        {
          "name": "stdout",
          "output_type": "stream",
          "text": [
            "   visitors  day_of_week  holiday_flg  air_genre_name  air_area_name  \\\n",
            "0        19            0            1               0              0   \n",
            "1        64            0            1               1              1   \n",
            "2       102            0            1               0              2   \n",
            "3        55            0            1               1              3   \n",
            "4        42            0            1               2              4   \n",
            "\n",
            "    latitude   longitude  reserve_visitors_air  vr_gap_time_air  \\\n",
            "0  33.581941  130.348436                   0.0              0.0   \n",
            "1  35.693840  139.703549                   0.0              0.0   \n",
            "2  35.669290  139.707056                   0.0              0.0   \n",
            "3  34.799767  135.360073                   0.0              0.0   \n",
            "4  35.699566  139.636438                   0.0              0.0   \n",
            "\n",
            "   reserve_visitors_hpg  vr_gap_time_hpg  year  month  day  \n",
            "0                   0.0              0.0  2016      1    1  \n",
            "1                   0.0              0.0  2016      1    1  \n",
            "2                   0.0              0.0  2016      1    1  \n",
            "3                   0.0              0.0  2016      1    1  \n",
            "4                   0.0              0.0  2016      1    1  \n"
          ]
        }
      ],
      "source": [
        "# categoric (air_genre_name) to numeric (air_genre_name)\n",
        "train_df['air_genre_name'] = pd.factorize(train_df['air_genre_name'])[0]\n",
        "\n",
        "# categoric (air_area_name) to numeric (air_area_name)\n",
        "train_df['air_area_name'] = pd.factorize(train_df['air_area_name'])[0]\n",
        "\n",
        "# categoric (day_of_week) to numeric (day_of_week)\n",
        "train_df['day_of_week'] = pd.factorize(train_df['day_of_week'])[0]\n",
        "\n",
        "# datetime to numeric data\n",
        "train_df['year'] = train_df['visit_date'].dt.year\n",
        "train_df['month'] = train_df['visit_date'].dt.month\n",
        "train_df['day'] = train_df['visit_date'].dt.day\n",
        "train_df.drop(columns=[\"visit_date\"], inplace=True)\n",
        "\n",
        "# normal\n",
        "# train_df['latitude'] = train_df['latitude'] / 90\n",
        "# train_df['longitude'] = train_df['longitude'] / 180\n",
        "\n",
        "print(train_df.head())"
      ]
    },
    {
      "cell_type": "code",
      "execution_count": null,
      "metadata": {
        "colab": {
          "base_uri": "https://localhost:8080/"
        },
        "id": "ogCG8QEjm-VJ",
        "outputId": "a69b5ade-483e-481a-910c-c4a2a1683ad8"
      },
      "outputs": [
        {
          "name": "stdout",
          "output_type": "stream",
          "text": [
            "   visitors  holiday_flg   latitude   longitude  reserve_visitors_air  \\\n",
            "0        19            1  33.581941  130.348436                   0.0   \n",
            "1        64            1  35.693840  139.703549                   0.0   \n",
            "2       102            1  35.669290  139.707056                   0.0   \n",
            "3        55            1  34.799767  135.360073                   0.0   \n",
            "4        42            1  35.699566  139.636438                   0.0   \n",
            "\n",
            "   vr_gap_time_air  reserve_visitors_hpg  vr_gap_time_hpg  year  \\\n",
            "0              0.0                   0.0              0.0  2016   \n",
            "1              0.0                   0.0              0.0  2016   \n",
            "2              0.0                   0.0              0.0  2016   \n",
            "3              0.0                   0.0              0.0  2016   \n",
            "4              0.0                   0.0              0.0  2016   \n",
            "\n",
            "   day_of_week_0  ...  day_22  day_23  day_24  day_25  day_26  day_27  day_28  \\\n",
            "0              1  ...       0       0       0       0       0       0       0   \n",
            "1              1  ...       0       0       0       0       0       0       0   \n",
            "2              1  ...       0       0       0       0       0       0       0   \n",
            "3              1  ...       0       0       0       0       0       0       0   \n",
            "4              1  ...       0       0       0       0       0       0       0   \n",
            "\n",
            "   day_29  day_30  day_31  \n",
            "0       0       0       0  \n",
            "1       0       0       0  \n",
            "2       0       0       0  \n",
            "3       0       0       0  \n",
            "4       0       0       0  \n",
            "\n",
            "[5 rows x 176 columns]\n"
          ]
        }
      ],
      "source": [
        "train_df = pd.get_dummies(train_df, columns=[\n",
        "    \"day_of_week\",\n",
        "    \"air_genre_name\",\n",
        "    \"air_area_name\",\n",
        "    \"month\",\n",
        "    \"day\"], dtype=int)\n",
        "print(train_df.head())"
      ]
    },
    {
      "cell_type": "code",
      "execution_count": null,
      "metadata": {
        "colab": {
          "base_uri": "https://localhost:8080/"
        },
        "id": "WxzuUA974sKX",
        "outputId": "33f0ffdf-3087-41ae-902d-fb0512360acb"
      },
      "outputs": [
        {
          "name": "stderr",
          "output_type": "stream",
          "text": [
            "<ipython-input-12-c7aae5f3cd08>:6: SettingWithCopyWarning: \n",
            "A value is trying to be set on a copy of a slice from a DataFrame\n",
            "\n",
            "See the caveats in the documentation: https://pandas.pydata.org/pandas-docs/stable/user_guide/indexing.html#returning-a-view-versus-a-copy\n",
            "  train_df.drop(columns=[\"year\"], inplace=True)\n",
            "<ipython-input-12-c7aae5f3cd08>:7: SettingWithCopyWarning: \n",
            "A value is trying to be set on a copy of a slice from a DataFrame\n",
            "\n",
            "See the caveats in the documentation: https://pandas.pydata.org/pandas-docs/stable/user_guide/indexing.html#returning-a-view-versus-a-copy\n",
            "  test_df.drop(columns=[\"year\"], inplace=True)\n"
          ]
        }
      ],
      "source": [
        "# split train_df into train_df and test_df\n",
        "\n",
        "test_df = train_df.loc[train_df['year'] > 2016]\n",
        "train_df = train_df.loc[train_df['year'] <= 2016]\n",
        "\n",
        "train_df.drop(columns=[\"year\"], inplace=True)\n",
        "test_df.drop(columns=[\"year\"], inplace=True)"
      ]
    },
    {
      "cell_type": "code",
      "execution_count": null,
      "metadata": {
        "colab": {
          "base_uri": "https://localhost:8080/"
        },
        "id": "7JcMkCkB2Tka",
        "outputId": "413eecf1-ebc7-4b41-db3f-c1218aa0f72e"
      },
      "outputs": [
        {
          "name": "stdout",
          "output_type": "stream",
          "text": [
            "visitors                188\n",
            "holiday_flg               2\n",
            "latitude                108\n",
            "longitude               108\n",
            "reserve_visitors_air    108\n",
            "                       ... \n",
            "day_27                    2\n",
            "day_28                    2\n",
            "day_29                    2\n",
            "day_30                    2\n",
            "day_31                    2\n",
            "Length: 175, dtype: int64\n",
            "visitors                162\n",
            "holiday_flg               2\n",
            "latitude                108\n",
            "longitude               108\n",
            "reserve_visitors_air     96\n",
            "                       ... \n",
            "day_27                    2\n",
            "day_28                    2\n",
            "day_29                    2\n",
            "day_30                    2\n",
            "day_31                    2\n",
            "Length: 175, dtype: int64\n"
          ]
        }
      ],
      "source": [
        "print(train_df.nunique())\n",
        "print(test_df.nunique())"
      ]
    },
    {
      "cell_type": "code",
      "execution_count": null,
      "metadata": {
        "id": "XzorRjkDvwT9"
      },
      "outputs": [],
      "source": [
        "# split data and label\n",
        "train_array = train_df.to_numpy()\n",
        "train_label_arr = train_array[:, 0]\n",
        "train_data_arr = train_array[:, 1:]\n",
        "test_array = test_df.to_numpy()\n",
        "test_label_arr = test_array[:, 0]\n",
        "test_data_arr = test_array[:, 1:] "
      ]
    },
    {
      "cell_type": "code",
      "execution_count": null,
      "metadata": {
        "id": "ZRSq07rmx0--"
      },
      "outputs": [],
      "source": [
        "# numpy to tensor\n",
        "train_label_tensor = torch.tensor(train_label_arr, dtype=torch.float32).unsqueeze(1)\n",
        "train_data_tensor = torch.tensor(train_data_arr, dtype=torch.float32)\n",
        "test_label_tensor = torch.tensor(test_label_arr, dtype=torch.float32).unsqueeze(1)\n",
        "test_data_tensor = torch.tensor(test_data_arr, dtype=torch.float32)"
      ]
    },
    {
      "cell_type": "code",
      "execution_count": null,
      "metadata": {
        "colab": {
          "base_uri": "https://localhost:8080/"
        },
        "id": "4PP_Zw9i3hz2",
        "outputId": "bae0b349-b1f0-4cfe-b831-105e4266a3f4"
      },
      "outputs": [
        {
          "name": "stdout",
          "output_type": "stream",
          "text": [
            "torch.Size([174535, 1])\n",
            "torch.Size([174535, 174])\n",
            "torch.Size([77573, 1])\n",
            "torch.Size([77573, 174])\n"
          ]
        }
      ],
      "source": [
        "print(train_label_tensor.shape)\n",
        "print(train_data_tensor.shape)\n",
        "print(test_label_tensor.shape)\n",
        "print(test_data_tensor.shape)"
      ]
    },
    {
      "cell_type": "code",
      "execution_count": null,
      "metadata": {
        "id": "Dsd4gFxuDwvl"
      },
      "outputs": [],
      "source": [
        "# model\n",
        "\n",
        "class SimpleModel(nn.Module):\n",
        "    def __init__(self):\n",
        "        super(SimpleModel, self).__init__()\n",
        "        self.layer1 = nn.Linear(in_features=174, out_features=256)\n",
        "        self.layer2 = nn.Linear(in_features=256, out_features=128)\n",
        "        self.layer3 = nn.Linear(in_features=128, out_features=1)\n",
        "        \n",
        "        self.relu = nn.ReLU()\n",
        "    \n",
        "    def forward(self, x):\n",
        "        x = self.relu(self.layer1(x))\n",
        "        x = self.relu(self.layer2(x))\n",
        "        x = self.relu(self.layer3(x))\n",
        "        \n",
        "        return x\n",
        "\n",
        "class model(nn.Module):\n",
        "    def __init__(self):\n",
        "        super().__init__()\n",
        "        self.layer1 = nn.Linear(174, 200)\n",
        "        self.act1 = nn.ReLU()\n",
        "        self.layer2 = nn.Linear(200, 80)\n",
        "        self.act2 = nn.ReLU()\n",
        "        # self.output = nn.Linear(30, 1)\n",
        "        # self.sigmoid = nn.Sigmoid()\n",
        "    \n",
        "    \n",
        "    def forward(self, x):\n",
        "        x = self.act1(self.layer1(x))\n",
        "        x = self.act2(self.layer2(x))\n",
        "        return x \n",
        "\n",
        "# model_0 = model()\n"
      ]
    },
    {
      "cell_type": "code",
      "execution_count": null,
      "metadata": {
        "id": "g09V2mjk5QYj"
      },
      "outputs": [],
      "source": [
        "class RMSLELoss(nn.Module):\n",
        "    def __init__(self):\n",
        "        super().__init__()\n",
        "        self.mse = nn.MSELoss()\n",
        "        \n",
        "    def forward(self, pred, actual):\n",
        "        return torch.sqrt(self.mse(torch.log(pred + 1), torch.log(actual + 1)))"
      ]
    },
    {
      "cell_type": "code",
      "execution_count": null,
      "metadata": {
        "colab": {
          "base_uri": "https://localhost:8080/",
          "height": 663
        },
        "id": "DhlPKTpf8UOZ",
        "outputId": "02cdd078-7a78-47a6-d608-662f188f785d"
      },
      "outputs": [
        {
          "name": "stdout",
          "output_type": "stream",
          "text": [
            "Epoch: 9 | Loss: 1.38793 | Test loss: 1.33316\n",
            "Epoch: 19 | Loss: 1.11473 | Test loss: 1.08273\n",
            "Epoch: 29 | Loss: 0.98318 | Test loss: 0.96236\n",
            "Epoch: 39 | Loss: 0.91083 | Test loss: 0.89736\n",
            "Epoch: 49 | Loss: 0.86873 | Test loss: 0.86028\n",
            "Epoch: 59 | Loss: 0.84334 | Test loss: 0.83855\n",
            "Epoch: 69 | Loss: 0.82768 | Test loss: 0.82559\n",
            "Epoch: 79 | Loss: 0.81784 | Test loss: 0.81779\n",
            "Epoch: 89 | Loss: 0.81155 | Test loss: 0.81306\n",
            "Epoch: 99 | Loss: 0.80749 | Test loss: 0.81019\n"
          ]
        },
        {
          "data": {
            "text/plain": [
              "<matplotlib.legend.Legend at 0x7fef6bf5b580>"
            ]
          },
          "execution_count": 19,
          "metadata": {},
          "output_type": "execute_result"
        },
        {
          "data": {
            "image/png": "[encoded data removed]",
            "text/plain": [
              "<Figure size 640x480 with 1 Axes>"
            ]
          },
          "metadata": {},
          "output_type": "display_data"
        }
      ],
      "source": [
        "# no optim\n",
        "\n",
        "model_0 = SimpleModel()\n",
        "\n",
        "# Loss Function\n",
        "loss_fn = RMSLELoss()\n",
        "\n",
        "# learning rate\n",
        "learning_rate = 0.001\n",
        "\n",
        "# Create an optimizer\n",
        "# optimizer = torch.optim.Adam(params=model_0.parameters(), lr=0.001)\n",
        "\n",
        "# data\n",
        "y_train = train_label_tensor\n",
        "x_train = train_data_tensor\n",
        "y_test = test_label_tensor\n",
        "x_test = test_data_tensor\n",
        "\n",
        "# Set the number of epochs\n",
        "epochs = 100\n",
        "\n",
        "# loss values\n",
        "train_loss_values = []\n",
        "test_loss_values = []\n",
        "\n",
        "# Build training and evaluation loop\n",
        "for epoch in range(epochs):\n",
        "    ### Training\n",
        "    model_0.train()\n",
        "\n",
        "    # 1. Forward pass (model outputs raw logits)\n",
        "    y_train_pred = model_0(x_train)\n",
        "  \n",
        "    # 2. Calculate loss\n",
        "    loss = loss_fn(y_train_pred, y_train)\n",
        "\n",
        "    # print(y_train_pred.squeeze())\n",
        "    # print(y_train.squeeze())\n",
        "    # print(loss)\n",
        "\n",
        "    # 3. Optimizer zero grad\n",
        "    # optimizer.zero_grad()\n",
        "\n",
        "    # 4. Loss backwards\n",
        "    loss.backward()\n",
        "\n",
        "    # 5. Optimizer step\n",
        "    # optimizer.step()\n",
        "\n",
        "    # Update parameters\n",
        "    with torch.no_grad():\n",
        "        for param in model_0.parameters():\n",
        "            param -= learning_rate * param.grad\n",
        "        model_0.zero_grad()\n",
        "\n",
        "    ### Testing\n",
        "    model_0.eval()\n",
        "    with torch.inference_mode():\n",
        "        # 1. Forward pass\n",
        "        y_test_pred = model_0(x_test)\n",
        "        # 2. Caculate loss\n",
        "        test_loss = loss_fn(y_test_pred, y_test)\n",
        "\n",
        "    # Print out what's happening every 10 epochs\n",
        "    if epoch % 10 == 9:\n",
        "        train_loss_values.append(loss.detach().numpy())\n",
        "        test_loss_values.append(test_loss.detach().numpy())\n",
        "        print(f\"Epoch: {epoch} | Loss: {loss:.5f} | Test loss: {test_loss:.5f}\")\n",
        "\n",
        "epoch_list = []\n",
        "for i in range(epochs // 10):\n",
        "    epoch_list.append((i-1)*10+9)\n",
        "\n",
        "plt.plot(epoch_list, train_loss_values, label=\"Train loss\")\n",
        "plt.plot(epoch_list, test_loss_values, label=\"Test loss\")\n",
        "plt.title(\"Training and test loss curves\")\n",
        "plt.ylabel(\"Loss\")\n",
        "plt.xlabel(\"Epochs\")\n",
        "plt.legend()\n"
      ]
    },
    {
      "cell_type": "code",
      "execution_count": null,
      "metadata": {
        "id": "NL8LgKQQC5El"
      },
      "outputs": [],
      "source": [
        "optim_list = [\n",
        "    \"Adam\",\n",
        "    \"SGD\",\n",
        "    \"RMSprop\"\n",
        "]"
      ]
    },
    {
      "cell_type": "code",
      "execution_count": null,
      "metadata": {
        "colab": {
          "base_uri": "https://localhost:8080/",
          "height": 1000
        },
        "id": "QAH6gGfwtwme",
        "outputId": "567a28c2-0598-4c5a-b496-8613bdbf7b84"
      },
      "outputs": [
        {
          "name": "stdout",
          "output_type": "stream",
          "text": [
            "==============================\n",
            "Optimizer: Adam\n",
            "==============================\n",
            "Epoch: 9 | Loss: 0.81852 | Test loss: 0.85042\n",
            "Epoch: 19 | Loss: 0.86191 | Test loss: 0.88220\n",
            "Epoch: 29 | Loss: 0.80675 | Test loss: 0.81503\n",
            "Epoch: 39 | Loss: 0.79751 | Test loss: 0.80408\n",
            "Epoch: 49 | Loss: 0.79328 | Test loss: 0.79931\n",
            "Epoch: 59 | Loss: 0.79116 | Test loss: 0.79646\n",
            "Epoch: 69 | Loss: 0.78918 | Test loss: 0.79268\n",
            "Epoch: 79 | Loss: 0.78768 | Test loss: 0.79079\n",
            "Epoch: 89 | Loss: 0.78630 | Test loss: 0.78881\n",
            "Epoch: 99 | Loss: 0.78469 | Test loss: 0.78696\n",
            "==============================\n",
            "Optimizer: SGD\n",
            "==============================\n",
            "Epoch: 9 | Loss: 1.47429 | Test loss: 1.37666\n",
            "Epoch: 19 | Loss: 1.09148 | Test loss: 1.05471\n",
            "Epoch: 29 | Loss: 0.95545 | Test loss: 0.93492\n",
            "Epoch: 39 | Loss: 0.88827 | Test loss: 0.87634\n",
            "Epoch: 49 | Loss: 0.85168 | Test loss: 0.84520\n",
            "Epoch: 59 | Loss: 0.83080 | Test loss: 0.82802\n",
            "Epoch: 69 | Loss: 0.81849 | Test loss: 0.81831\n",
            "Epoch: 79 | Loss: 0.81105 | Test loss: 0.81274\n",
            "Epoch: 89 | Loss: 0.80646 | Test loss: 0.80953\n",
            "Epoch: 99 | Loss: 0.80358 | Test loss: 0.80769\n",
            "==============================\n",
            "Optimizer: RMSprop\n",
            "==============================\n",
            "Epoch: 9 | Loss: 0.79196 | Test loss: 0.79631\n",
            "Epoch: 19 | Loss: 0.78926 | Test loss: 0.79429\n",
            "Epoch: 29 | Loss: 0.78694 | Test loss: 0.79106\n",
            "Epoch: 39 | Loss: 0.78630 | Test loss: 0.79433\n",
            "Epoch: 49 | Loss: 0.78224 | Test loss: 0.78764\n",
            "Epoch: 59 | Loss: 0.77990 | Test loss: 0.78488\n",
            "Epoch: 69 | Loss: 0.77881 | Test loss: 0.78709\n",
            "Epoch: 79 | Loss: 0.77597 | Test loss: 0.78510\n",
            "Epoch: 89 | Loss: 0.77193 | Test loss: 0.77888\n",
            "Epoch: 99 | Loss: 0.77049 | Test loss: 0.77890\n"
          ]
        },
        {
          "data": {
            "image/png": "[encoded data removed]",
            "text/plain": [
              "<Figure size 640x480 with 1 Axes>"
            ]
          },
          "metadata": {},
          "output_type": "display_data"
        }
      ],
      "source": [
        "for optim in optim_list:\n",
        "    \n",
        "    print(\"=\"*30)\n",
        "    print(\"Optimizer:\", optim)\n",
        "    print(\"=\"*30)\n",
        "\n",
        "    model_0 = SimpleModel()\n",
        "\n",
        "    # Loss Function\n",
        "    loss_fn = RMSLELoss()\n",
        "\n",
        "    # Create an optimizer\n",
        "    optimizer = torch.optim.Adam(params=model_0.parameters(), lr=0.001)\n",
        "    if optim.__eq__(\"Adam\"):\n",
        "        optimizer = torch.optim.Adam(params=model_0.parameters(), lr=0.001)\n",
        "    elif optim.__eq__(\"SGD\"):\n",
        "        optimizer = torch.optim.SGD(params=model_0.parameters(), lr=0.001)\n",
        "    elif optim.__eq__(\"RMSprop\"):\n",
        "        optimizer = torch.optim.RMSprop(params=model_0.parameters(), lr=0.001)\n",
        "\n",
        "    # data\n",
        "    y_train = train_label_tensor\n",
        "    x_train = train_data_tensor\n",
        "    y_test = test_label_tensor\n",
        "    x_test = test_data_tensor\n",
        "\n",
        "    # Set the number of epochs\n",
        "    epochs = 100\n",
        "\n",
        "    # loss values\n",
        "    train_loss_values = []\n",
        "    test_loss_values = []\n",
        "\n",
        "    # Build training and evaluation loop\n",
        "    for epoch in range(epochs):\n",
        "        ### Training\n",
        "        model_0.train()\n",
        "\n",
        "        # 1. Forward pass (model outputs raw logits)\n",
        "        y_train_pred = model_0(x_train)\n",
        "    \n",
        "        # 2. Calculate loss\n",
        "        loss = loss_fn(y_train_pred, y_train)\n",
        "\n",
        "        # print(y_train_pred.squeeze())\n",
        "        # print(y_train.squeeze())\n",
        "        # print(loss)\n",
        "\n",
        "        # 3. Optimizer zero grad\n",
        "        optimizer.zero_grad()\n",
        "\n",
        "        # 4. Loss backwards\n",
        "        loss.backward()\n",
        "\n",
        "        # 5. Optimizer step\n",
        "        optimizer.step()\n",
        "\n",
        "        ### Testing\n",
        "        model_0.eval()\n",
        "        with torch.inference_mode():\n",
        "            # 1. Forward pass\n",
        "            y_test_pred = model_0(x_test)\n",
        "            # 2. Caculate loss\n",
        "            test_loss = loss_fn(y_test_pred, y_test)\n",
        "\n",
        "        # Print out what's happening every 10 epochs\n",
        "        if epoch % 10 == 9:\n",
        "            train_loss_values.append(loss.detach().numpy())\n",
        "            test_loss_values.append(test_loss.detach().numpy())\n",
        "            print(f\"Epoch: {epoch} | Loss: {loss:.5f} | Test loss: {test_loss:.5f}\")\n",
        "\n",
        "    epoch_list = []\n",
        "    for i in range(epochs // 10):\n",
        "        epoch_list.append((i-1)*10+9)\n",
        "\n",
        "    plt.plot(epoch_list, train_loss_values, label=\"Train loss \" + optim)\n",
        "    plt.plot(epoch_list, test_loss_values, label=\"Test loss \" + optim)\n",
        "    plt.title(\"Training and test loss curves\")\n",
        "    plt.ylabel(\"Loss\")\n",
        "    plt.xlabel(\"Epochs\")\n",
        "    plt.legend()"
      ]
    }
  ],
  "metadata": {
    "colab": {
      "provenance": []
    },
    "kernelspec": {
      "display_name": "Python 3",
      "name": "python3"
    },
    "language_info": {
      "name": "python"
    }
  },
  "nbformat": 4,
  "nbformat_minor": 0
}
